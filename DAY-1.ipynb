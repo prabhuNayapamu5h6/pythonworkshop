{
 "cells": [
  {
   "cell_type": "markdown",
   "metadata": {},
   "source": [
    "# Heading\n",
    "\n",
    "## Heading\n",
    "\n",
    "### Heading\n",
    "\n",
    "# Bold\n",
    "\n",
    "**WelCome**\n",
    "\n",
    "# latic\n",
    "\n",
    "*python workshop*\n",
    "\n",
    "# Both Bold & latic\n",
    "\n",
    "***Hello***\n",
    "\n",
    "# Heading Images\n",
    "\n",
    "## Offline images\n",
    "\n",
    "## Online Images\n",
    "\n",
    "<img src=\"simple.jpg height=100px width=100px>\n",
    "\n",
    "<img src=\"\n",
    "\n",
    "\n",
    "\n",
    "# Links\n",
    "\n",
    "[Goggle](https:\\\\www.Goggle.com)\n",
    "\n",
    "[APSSDC]\n",
    "\n",
    "# Bullet Points\n",
    "+ programming\n",
    "    + c\n",
    "    \n",
    "    - java\n",
    "    \n",
    "    * python\n",
    "    \n",
    "- web \n",
    "    + Html\n",
    "    \n",
    "    - css\n",
    "    \n",
    "    * js\n",
    "    \n",
    "    \n",
    "* socialWebsits\n",
    "     + Facebook\n",
    "     \n",
    "     - Titter\n",
    "     \n",
    "     * Instagram\n",
    "\n",
    "# Order list\n",
    "\n",
    "1. Boostrap\n",
    "100. jquary\n",
    "500. Ajay\n",
    "1000. Angularjs\n",
    "\n",
    "# unorder list \n",
    "\n",
    "1. Django\n",
    "\n",
    "+ Flask\n",
    "\n",
    "3. Bottle\n",
    "\n",
    "- Cherrypy\n"
   ]
  },
  {
   "cell_type": "markdown",
   "metadata": {},
   "source": [
    "# Introduction To Python\n",
    "\n",
    "# History of Python\n",
    "\n",
    "# Keywords or Reversed word\n",
    "\n",
    "# Variable Declaration\n",
    "\n",
    "# Operations in Python\n",
    "\n",
    "# Comments in Python\n",
    "\n",
    "# Control flow Statements"
   ]
  },
  {
   "cell_type": "markdown",
   "metadata": {},
   "source": [
    "# Introduction To Python  \n",
    "+ Highlevel\n",
    "+ Object orented Programming\n",
    "+ Interpeted\n",
    "+ dynamic\n",
    "+ Multipurpose\n",
    "   "
   ]
  },
  {
   "cell_type": "code",
   "execution_count": 2,
   "metadata": {
    "scrolled": true
   },
   "outputs": [
    {
     "data": {
      "text/plain": [
       "['False',\n",
       " 'None',\n",
       " 'True',\n",
       " 'and',\n",
       " 'as',\n",
       " 'assert',\n",
       " 'async',\n",
       " 'await',\n",
       " 'break',\n",
       " 'class',\n",
       " 'continue',\n",
       " 'def',\n",
       " 'del',\n",
       " 'elif',\n",
       " 'else',\n",
       " 'except',\n",
       " 'finally',\n",
       " 'for',\n",
       " 'from',\n",
       " 'global',\n",
       " 'if',\n",
       " 'import',\n",
       " 'in',\n",
       " 'is',\n",
       " 'lambda',\n",
       " 'nonlocal',\n",
       " 'not',\n",
       " 'or',\n",
       " 'pass',\n",
       " 'raise',\n",
       " 'return',\n",
       " 'try',\n",
       " 'while',\n",
       " 'with',\n",
       " 'yield']"
      ]
     },
     "execution_count": 2,
     "metadata": {},
     "output_type": "execute_result"
    }
   ],
   "source": [
    "# Keywords or Reversed words\n",
    "import keyword\n",
    "dir(keyword)\n",
    "\n",
    "keyword.iskeyword('is')\n",
    "keyword.iskeyword('iss')\n",
    "\n",
    "keyword.kwlist"
   ]
  },
  {
   "cell_type": "code",
   "execution_count": 4,
   "metadata": {},
   "outputs": [
    {
     "ename": "SyntaxError",
     "evalue": "invalid syntax (<ipython-input-4-927e028f157c>, line 4)",
     "output_type": "error",
     "traceback": [
      "\u001b[1;36m  File \u001b[1;32m\"<ipython-input-4-927e028f157c>\"\u001b[1;36m, line \u001b[1;32m4\u001b[0m\n\u001b[1;33m    1b=100\u001b[0m\n\u001b[1;37m     ^\u001b[0m\n\u001b[1;31mSyntaxError\u001b[0m\u001b[1;31m:\u001b[0m invalid syntax\n"
     ]
    }
   ],
   "source": [
    "# variable Decleration\n",
    "a=10\n",
    "print(a)\n",
    "1b=100\n",
    "_c='hello'\n",
    "print(a)\n",
    "print(1b)\n",
    "print(_c)\n",
    "\n"
   ]
  },
  {
   "cell_type": "code",
   "execution_count": 6,
   "metadata": {},
   "outputs": [
    {
     "name": "stdout",
     "output_type": "stream",
     "text": [
      "10\n",
      "10\n",
      "10\n",
      "10\n",
      "10\n",
      "20\n",
      "30\n",
      "40\n"
     ]
    }
   ],
   "source": [
    "# How to store single value in multiple variables\n",
    "\n",
    "a=b=c=d=10\n",
    "print(a)\n",
    "print(b)\n",
    "print(c)\n",
    "print(d)\n",
    "\n",
    "\n",
    "\n",
    "\n",
    "\n",
    "a,b,c,d=10,20,30,40\n",
    "print(a)\n",
    "print(b)\n",
    "print(c)\n",
    "print(d)"
   ]
  },
  {
   "cell_type": "code",
   "execution_count": null,
   "metadata": {},
   "outputs": [],
   "source": [
    "# operators\n",
    "\n",
    "1. Arthematic Operator(+,-,*,/,%,//,**)\n",
    "2. Relational or Comparision Operator(<,>,<=,>=,<-,>-,--.!=)"
   ]
  }
 ],
 "metadata": {
  "kernelspec": {
   "display_name": "Python 3",
   "language": "python",
   "name": "python3"
  },
  "language_info": {
   "codemirror_mode": {
    "name": "ipython",
    "version": 3
   },
   "file_extension": ".py",
   "mimetype": "text/x-python",
   "name": "python",
   "nbconvert_exporter": "python",
   "pygments_lexer": "ipython3",
   "version": "3.7.3"
  }
 },
 "nbformat": 4,
 "nbformat_minor": 2
}
